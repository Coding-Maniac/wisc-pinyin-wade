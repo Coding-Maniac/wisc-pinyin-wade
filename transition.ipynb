{
 "cells": [
  {
   "cell_type": "code",
   "execution_count": 1,
   "id": "6ff09870",
   "metadata": {},
   "outputs": [],
   "source": [
    "import pandas\n",
    "import json"
   ]
  },
  {
   "cell_type": "markdown",
   "id": "7943d16c",
   "metadata": {},
   "source": [
    "# Step 1: Transition Function\n",
    "\n",
    "Below is the detailed function which shows you how to convert an excel file to a json file. Please remember that `path1` and `path2` might appear different based on the file path you have put your file in your system"
   ]
  },
  {
   "cell_type": "code",
   "execution_count": 2,
   "id": "0f7d3083",
   "metadata": {},
   "outputs": [],
   "source": [
    "def exl_to_json (path1, path2):\n",
    "  # path1 and path2 need to be strings\n",
    "  original_excel = pandas.read_excel(path1)\n",
    "  json_str = original_excel.to_json(orient = 'records') #transfer excel data into a json string format. 'orient' adds specificity to the json format\n",
    "\n",
    "  out_json = json.loads(json_str) # convert json string to actual json object\n",
    "\n",
    "  # Now we need to start the process of exporting the json file\n",
    "  out_file = open(path2, 'w') # path2 would be the path which you want to store the json file into\n",
    "  # Remember, pre-create the path2 file before you run the former line\n",
    "  # 'w' is essential, it ensures that the file opens in writing mode\n",
    "\n",
    "  json.dump(out_json, out_file, indent=2)\n",
    "  out_file.close()"
   ]
  },
  {
   "cell_type": "markdown",
   "id": "77e1a9ed",
   "metadata": {},
   "source": [
    "# Step 2: Figuring out Your Paths & Calling the Function\n",
    "\n",
    "- `path1` means the original excel file you stored your Pinyin to Wade-Giles pair\n",
    "- `path2` indicates the json file path which you intend to input the transitioned json objects from the Python function above"
   ]
  },
  {
   "cell_type": "code",
   "execution_count": 3,
   "id": "4849c22a",
   "metadata": {},
   "outputs": [],
   "source": [
    "exl_to_json('/Users/yifanhuang/Development/wisc-pinyin-wade/data/Pinyin-to-Wade-Giles.xlsx', '/Users/yifanhuang/Development/wisc-pinyin-wade/data/transited.json')"
   ]
  },
  {
   "cell_type": "code",
   "execution_count": null,
   "id": "d739b300",
   "metadata": {},
   "outputs": [],
   "source": []
  }
 ],
 "metadata": {
  "kernelspec": {
   "display_name": "Python 3 (ipykernel)",
   "language": "python",
   "name": "python3"
  },
  "language_info": {
   "codemirror_mode": {
    "name": "ipython",
    "version": 3
   },
   "file_extension": ".py",
   "mimetype": "text/x-python",
   "name": "python",
   "nbconvert_exporter": "python",
   "pygments_lexer": "ipython3",
   "version": "3.10.8"
  },
  "vscode": {
   "interpreter": {
    "hash": "aee8b7b246df8f9039afb4144a1f6fd8d2ca17a180786b69acc140d282b71a49"
   }
  }
 },
 "nbformat": 4,
 "nbformat_minor": 5
}
