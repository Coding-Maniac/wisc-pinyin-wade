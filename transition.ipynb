{
 "cells": [
  {
   "cell_type": "code",
   "execution_count": 1,
   "id": "6ff09870",
   "metadata": {},
   "outputs": [],
   "source": [
    "import pandas\n",
    "import json"
   ]
  },
  {
   "cell_type": "code",
   "execution_count": 2,
   "id": "5756cb96",
   "metadata": {},
   "outputs": [],
   "source": [
    "original_excel = pandas.read_excel('/Users/yifanhuang/Development/wisc-pinyin-wade/Pinyin-to-Wade-Giles.xlsx')"
   ]
  },
  {
   "cell_type": "code",
   "execution_count": 6,
   "id": "8b7e61f1",
   "metadata": {},
   "outputs": [],
   "source": [
    "json_str = original_excel.to_json(orient='records')\n",
    "out_json = json.loads(json_str)"
   ]
  },
  {
   "cell_type": "code",
   "execution_count": 7,
   "id": "286edd0b",
   "metadata": {},
   "outputs": [],
   "source": [
    "out_file = open('/Users/yifanhuang/Development/wisc-pinyin-wade/transited.json', 'w')\n",
    "json.dump(out_json, out_file, indent=2)\n",
    "out_file.close()"
   ]
  },
  {
   "cell_type": "code",
   "execution_count": null,
   "id": "0f7d3083",
   "metadata": {},
   "outputs": [],
   "source": []
  }
 ],
 "metadata": {
  "kernelspec": {
   "display_name": "Python 3",
   "language": "python",
   "name": "python3"
  },
  "language_info": {
   "codemirror_mode": {
    "name": "ipython",
    "version": 3
   },
   "file_extension": ".py",
   "mimetype": "text/x-python",
   "name": "python",
   "nbconvert_exporter": "python",
   "pygments_lexer": "ipython3",
   "version": "3.10.8"
  },
  "vscode": {
   "interpreter": {
    "hash": "aee8b7b246df8f9039afb4144a1f6fd8d2ca17a180786b69acc140d282b71a49"
   }
  }
 },
 "nbformat": 4,
 "nbformat_minor": 5
}
